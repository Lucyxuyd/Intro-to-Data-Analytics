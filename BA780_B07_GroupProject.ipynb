{
  "nbformat": 4,
  "nbformat_minor": 0,
  "metadata": {
    "colab": {
      "provenance": [],
      "include_colab_link": true
    },
    "kernelspec": {
      "name": "python3",
      "display_name": "Python 3"
    },
    "language_info": {
      "name": "python"
    }
  },
  "cells": [
    {
      "cell_type": "markdown",
      "metadata": {
        "id": "view-in-github",
        "colab_type": "text"
      },
      "source": [
        "<a href=\"https://colab.research.google.com/github/Lucyxuyd/Intro-to-Data-Analytics/blob/main/BA780_B07_GroupProject.ipynb\" target=\"_parent\"><img src=\"https://colab.research.google.com/assets/colab-badge.svg\" alt=\"Open In Colab\"/></a>"
      ]
    },
    {
      "cell_type": "markdown",
      "source": [
        "# Boston Crime Analytics\n",
        "\n",
        "<p align=\"right\">BA780 CohortB Team7</p>\n",
        "\n",
        "<p align=\"right\">Jiadai Yu, Raj Patel, Yidan Xu, Yen-Chun Chen, Zhaner Sun</p>\n",
        "\n",
        "**Summary**\n",
        "\n",
        "Our goal for this project is to analyze which\n",
        "areas of Boston have the highest crime rate. We also want to narrow down on specific variables, such as type of crime, district, and what day the crime occurred. With this, we can better predict possible incidents and be able to suggest appropriate reinforcements to make the city of Boston safer.\n",
        "\n",
        "**Data Source**\n",
        "\n",
        "Crime Incident Reports (August 2015 - To Date)(Source: New System)\n",
        "\n",
        "https://data.boston.gov/dataset/crime-incident-reports-august-2015-to-date-source-new-system\n",
        "\n",
        "**1. Import and Data Cleaning**  \n",
        "1.1 Data Discription   \n",
        "1.2 Data Cleaning  \n",
        "**2. Descriptive Explorations**    \n",
        "2.1 The Most Frequent and Most Dangerous Incidents  \n",
        "2.2 Shooting Incident on District and Days of Week             \n",
        "2.3 District Differences of Incidents   \n",
        "2.4 Month with the Highest Rate of Crime  \n",
        "2.5 Day Crime is Reported the Most"
      ],
      "metadata": {
        "id": "5TIrUP7ktjvQ"
      }
    },
    {
      "cell_type": "markdown",
      "source": [
        "## 1. Import and Data Cleaning  \n",
        "### 1.1 Data Discription"
      ],
      "metadata": {
        "id": "2NjXnwvbsVxw"
      }
    },
    {
      "cell_type": "code",
      "source": [
        "import numpy as np\n",
        "import pandas as pd\n",
        "import seaborn as sns\n",
        "import matplotlib.pyplot as plt\n",
        "\n",
        "crime2021 = pd.read_csv('https://raw.githubusercontent.com/JiadaiY/JiadaiYu/main/BA780%20GroupProject/Crime%20Incident%20Reports%20-%202021.csv')\n",
        "crime2022 = pd.read_csv('https://raw.githubusercontent.com/JiadaiY/JiadaiYu/main/BA780%20GroupProject/Crime%20Incident%20Reports%20-%202022.csv')\n",
        "\n",
        "crime2021.describe()"
      ],
      "metadata": {
        "id": "ZILuJcjMKth-"
      },
      "execution_count": null,
      "outputs": []
    },
    {
      "cell_type": "markdown",
      "source": [
        "### 1.2 Data Cleaning "
      ],
      "metadata": {
        "id": "cp2Mz2iRuIAX"
      }
    },
    {
      "cell_type": "code",
      "source": [
        "crime2021.isna().sum()\n",
        "crime2022.isna().sum()"
      ],
      "metadata": {
        "id": "qW_3LnJTzZw2"
      },
      "execution_count": null,
      "outputs": []
    },
    {
      "cell_type": "code",
      "source": [
        "import missingno as msno\n",
        "msno.matrix(crime2021)\n",
        "msno.matrix(crime2022)"
      ],
      "metadata": {
        "id": "zFg7sY2A5GSF"
      },
      "execution_count": null,
      "outputs": []
    },
    {
      "cell_type": "markdown",
      "source": [
        "<p>Steps for data cleaning:\n",
        "\n",
        "1.   Drop column 'OFFENSE_CODE_GROUP' and 'UCR_PART' since these are null columns.\n",
        "2.   Change offense_code fields name into crime_type.\n",
        "3. Add new column district name that corresponds to district code (https://bpdnews.com/districts).\n",
        "4. Dropping all null rows (from 'DISTRICT', 'DISTRICT_NAME', and 'STREET') which lost about 2.5% of the whole dataset\n",
        "5. Dropping rows from column 'Lat', 'Long', and 'Location' with value 0 which lost about 3.0% of the whole dataset\n",
        "</p>"
      ],
      "metadata": {
        "id": "2VeKuS8GFBr-"
      }
    },
    {
      "cell_type": "code",
      "source": [
        "crime2021 = pd.DataFrame(crime2021)\n",
        "crime2021_tidy = crime2021.copy()\n",
        "crime2021_tidy.drop(['OFFENSE_CODE_GROUP', 'UCR_PART'], axis=1, inplace=True)\n",
        "crime2021_tidy.rename(columns = {'OFFENSE_CODE': 'CRIME_TYPE'}, inplace=True)\n",
        "\n",
        "DISTRICT_NAME = {'A1':'Downtown_&_Charlestown', 'A15':'Downtown_&_Charlestown', 'A7':'East_Boston', 'B2':'Roxbury', 'B3':'Mattapan', 'C6':'South_Boston', 'C11':'Dorchester', 'D4':'South_End', 'D14':'Brighton', 'E5':'West_Roxbury', 'E13':'Jamaica_Plain', 'E18':'Hyde_Park'}\n",
        "crime2021_tidy['DISTRICT_NAME'] = crime2021_tidy['DISTRICT'].map(DISTRICT_NAME)\n",
        "crime2021_tidy.dropna(subset=['DISTRICT', 'DISTRICT_NAME', 'STREET'], inplace=True)\n",
        "crime2021_tidy = crime2021_tidy[(crime2021_tidy.Lat != 0.000000) & (crime2021_tidy.Long != 0.000000) & (crime2021_tidy.Location != (0, 0))]\n",
        "\n",
        "crime2021_tidy = pd.DataFrame(crime2021_tidy, columns=['INCIDENT_NUMBER', 'CRIME_TYPE', 'OFFENSE_DESCRIPTION', 'DISTRICT', 'DISTRICT_NAME', 'REPORTING_AREA', 'SHOOTING', 'OCCURRED_ON_DATE', 'YEAR', 'MONTH', 'DAY_OF_WEEK', 'HOUR', 'STREET', 'Lat', 'Long', 'Location'])\n",
        "crime2021_tidy.head()"
      ],
      "metadata": {
        "id": "FfdRbvqB3edM"
      },
      "execution_count": null,
      "outputs": []
    },
    {
      "cell_type": "code",
      "source": [
        "crime2022 = pd.DataFrame(crime2022)\n",
        "crime2022_tidy = crime2022.copy()\n",
        "crime2022_tidy.drop(['OFFENSE_CODE_GROUP', 'UCR_PART'], axis=1, inplace=True)\n",
        "crime2022_tidy.rename(columns = {'OFFENSE_CODE': 'CRIME_TYPE'}, inplace=True)\n",
        "\n",
        "DISTRICT_NAME = {'A1':'Downtown_&_Charlestown', 'A15':'Downtown_&_Charlestown', 'A7':'East_Boston', 'B2':'Roxbury', 'B3':'Mattapan', 'C6':'South_Boston', 'C11':'Dorchester', 'D4':'South_End', 'D14':'Brighton', 'E5':'West_Roxbury', 'E13':'Jamaica_Plain', 'E18':'Hyde_Park'}\n",
        "crime2022_tidy['DISTRICT_NAME'] = crime2022_tidy['DISTRICT'].map(DISTRICT_NAME)\n",
        "crime2022_tidy.dropna(subset=['DISTRICT', 'DISTRICT_NAME'], inplace=True)\n",
        "crime2022_tidy = crime2022_tidy[(crime2022_tidy.Lat != 0.000000) & (crime2022_tidy.Long != 0.000000) & (crime2022_tidy.Location != (0, 0))]\n",
        "\n",
        "crime2022_tidy = pd.DataFrame(crime2022_tidy, columns=['INCIDENT_NUMBER', 'CRIME_TYPE', 'OFFENSE_DESCRIPTION', 'DISTRICT', 'DISTRICT_NAME', 'REPORTING_AREA', 'SHOOTING', 'OCCURRED_ON_DATE', 'YEAR', 'MONTH', 'DAY_OF_WEEK', 'HOUR', 'STREET', 'Lat', 'Long', 'Location'])\n",
        "crime2022_tidy.head()"
      ],
      "metadata": {
        "id": "4H_ABvVfxmfR"
      },
      "execution_count": null,
      "outputs": []
    },
    {
      "cell_type": "code",
      "source": [
        "msno.matrix(crime2021_tidy)\n",
        "msno.matrix(crime2022_tidy)"
      ],
      "metadata": {
        "id": "0g1l3L6Wx7Fj"
      },
      "execution_count": null,
      "outputs": []
    },
    {
      "cell_type": "markdown",
      "source": [
        "1. `INCIDENT_NUMBER`: Identical number for each crime attempted (ID)\n",
        "1. `CRIME_TYPE`: Codes represented by each type of crime\n",
        "1. `OFFENSE_DESCRIPTION`: Offense action describe in words\n",
        "1. `DISTRICT`: District codes of the crime incident\n",
        "1. `DISTRICT_NAME`: District name of the crime incident\n",
        "1. `REPORTING_AREA`: Area that was reported for crime incident\n",
        "1. `SHOOTING`: '1' for shooting incident and '0' for negative\n",
        "1. `OCCURRED_ON_DATE`: Date and Time for crime incident occurred\n",
        "1. `YEAR`: Year of the crime incident happened\n",
        "1. `MONTH`: Month of the crime incident happened\n",
        "1. `DAY_OF_WEEK`: Day of week of the crime incident happened\n",
        "1. `HOUR`: The hour of the day that crime incident happened\n",
        "1. `STREET`: Street name of the crime incident happened\n",
        "1. `Lat`: Latitude of the crime incident happened\n",
        "1. `Long`: Longitude of the crime incident happened\n",
        "1. `Location`: Location of the crime incident happened"
      ],
      "metadata": {
        "id": "hlyDrrlo67uR"
      }
    },
    {
      "cell_type": "code",
      "source": [
        "crime_total_2021 = crime2021_tidy['INCIDENT_NUMBER'].unique().size\n",
        "print('This dataset includes ',crime_total_2021,' incidents in 2021.')\n",
        "crime_total_2022 = crime2022_tidy['INCIDENT_NUMBER'].unique().size\n",
        "print('This dataset includes ',crime_total_2022,' incidents in 2022, up to ',crime2022_tidy['OCCURRED_ON_DATE'].max())"
      ],
      "metadata": {
        "id": "QsvB8m31fSYP"
      },
      "execution_count": null,
      "outputs": []
    },
    {
      "cell_type": "markdown",
      "source": [
        "## 2. Descriptive Explorations  \n",
        "### 2.1 The Most Frequent Type of Incidents  \n",
        "In this part, we will analyze, which type of incidents occur most in number, and which type of incidents involve the most shootings.  \n",
        "First, let's take a closer look at the two variables that contains the information of incident types: `CRIME_TYPE` and `OFFENSE_DESCRIPTION`."
      ],
      "metadata": {
        "id": "F3xGJsaVWKAC"
      }
    },
    {
      "cell_type": "code",
      "source": [
        "print('There are ', crime2021_tidy['CRIME_TYPE'].unique().size,' unique types of crime,')\n",
        "print('and ',crime2021_tidy['OFFENSE_DESCRIPTION'].unique().size,' unique detailed descriptions of crime.')"
      ],
      "metadata": {
        "id": "vvJ6N5zqdH49"
      },
      "execution_count": null,
      "outputs": []
    },
    {
      "cell_type": "markdown",
      "source": [
        "There is an one-to-one relationship between crime type number and offense description, these two variables are alias to each other. In the following analysis, we will use only `OFFENSE_DESCRIPTION`, for better conciseness and readability."
      ],
      "metadata": {
        "id": "UNg7W5YRcNXq"
      }
    },
    {
      "cell_type": "code",
      "source": [
        "crime_by_type_2021 = crime2021_tidy.groupby('OFFENSE_DESCRIPTION').count().reset_index()[['OFFENSE_DESCRIPTION','INCIDENT_NUMBER']]\n",
        "crime_by_type_2021['RATE'] = crime_by_type_2021['INCIDENT_NUMBER']/crime_total_2021\n",
        "top_10_types_2021 = crime_by_type_2021.sort_values(by=['INCIDENT_NUMBER'], ascending=False)[:10]['OFFENSE_DESCRIPTION'].values\n",
        "\n",
        "crime_by_type_2022 = crime2022_tidy.groupby('OFFENSE_DESCRIPTION').count().reset_index()[['OFFENSE_DESCRIPTION','INCIDENT_NUMBER']]\n",
        "crime_by_type_2022['RATE'] = crime_by_type_2022['INCIDENT_NUMBER']/crime_total_2022\n",
        "top_10_types_2022 = crime_by_type_2022.sort_values(by=['INCIDENT_NUMBER'], ascending=False)[:10]['OFFENSE_DESCRIPTION'].values\n",
        "\n",
        "top_10_types_shared = np.union1d(top_10_types_2021,top_10_types_2022)\n",
        "\n",
        "crime_by_type = crime_by_type_2021.merge(crime_by_type_2022,on='OFFENSE_DESCRIPTION',suffixes=['_2021','_2022'])\n",
        "crime_by_type.sort_values(by=['INCIDENT_NUMBER_2021'], ascending=False).head(len(top_10_types_shared))"
      ],
      "metadata": {
        "id": "KaGuHj6Cg6-T"
      },
      "execution_count": null,
      "outputs": []
    },
    {
      "cell_type": "code",
      "source": [
        "crime_by_type[crime_by_type['OFFENSE_DESCRIPTION'].isin(top_10_types_shared)].plot.bar(\n",
        "      x='OFFENSE_DESCRIPTION',y=['INCIDENT_NUMBER_2021','INCIDENT_NUMBER_2022'],color=[\"#1f77b4\",\"#ff0000\"])\n",
        "ax=plt.axes()\n",
        "ax.set(xlabel='Offense Description',ylabel='Incidents Count',title='Frequency of Different Type of Incidents')"
      ],
      "metadata": {
        "id": "N-uSdwZSeZiF"
      },
      "execution_count": null,
      "outputs": []
    },
    {
      "cell_type": "markdown",
      "source": [
        "The top ten frequent types of crime in 2021 and 2022 are almost the same, with only one difference, and the patterns are quite similar, Notably, since our data are only included through November 2022, most incidents have a higher number of occurrences in 2021."
      ],
      "metadata": {
        "id": "OzXNu42hcENO"
      }
    },
    {
      "cell_type": "markdown",
      "source": [
        "### 2.2 District Differences of Incidents \n",
        "Rank the number of crimes by district"
      ],
      "metadata": {
        "id": "xnDrhF1AhYqs"
      }
    },
    {
      "cell_type": "code",
      "source": [
        "district_code = crime2021_tidy[[\"DISTRICT\",\"DISTRICT_NAME\"]].value_counts().reset_index().sort_values('DISTRICT')"
      ],
      "metadata": {
        "id": "2UVt8Y_XjQhc"
      },
      "execution_count": null,
      "outputs": []
    },
    {
      "cell_type": "markdown",
      "source": [
        "There are 12 districts in Boston, each has a unique code `DISTRICT` and `DISTRICT_NAME`."
      ],
      "metadata": {
        "id": "ENmQvuTKjb5c"
      }
    },
    {
      "cell_type": "code",
      "source": [
        "crime_by_district_2021 = crime2021_tidy.groupby('DISTRICT_NAME').count()\n",
        "crime_by_district_2021 = crime_by_district_2021[['INCIDENT_NUMBER']]\n",
        "crime_by_district_2021 = crime_by_district_2021.rename(columns={\"INCIDENT_NUMBER\": \"INCIDENT_NUMBER_2021\"})\n",
        "\n",
        "crime_by_district_2022 = crime2022_tidy.groupby('DISTRICT_NAME').count()\n",
        "crime_by_district_2022 = crime_by_district_2022[['INCIDENT_NUMBER']]\n",
        "crime_by_district_2022 = crime_by_district_2022.rename(columns={\"INCIDENT_NUMBER\": \"INCIDENT_NUMBER_2022\"})\n",
        "\n",
        "crime_by_district_2021_2022 = pd.concat([crime_by_district_2021,crime_by_district_2022], axis=1, join=\"inner\")\n",
        "crime_by_district_2021_2022 = crime_by_district_2021_2022.sort_values(by='INCIDENT_NUMBER_2021', ascending=False).head(10)\n",
        "crime_by_district_2021_2022.sort_values(by=\"INCIDENT_NUMBER_2021\", ascending=False)"
      ],
      "metadata": {
        "id": "3zae5fTihHZ5"
      },
      "execution_count": null,
      "outputs": []
    },
    {
      "cell_type": "markdown",
      "source": [
        "Roxbury, Downtown and South End are the top three district with the highest crime rate."
      ],
      "metadata": {
        "id": "A6ZGKfOYj8mV"
      }
    },
    {
      "cell_type": "code",
      "source": [
        "crime_by_district_2021_2022.plot.bar(y = {\"INCIDENT_NUMBER_2021\",\"INCIDENT_NUMBER_2022\"},color=[\"#1f77b4\",\"#ff0000\"])\n",
        "ax=plt.axes()\n",
        "ax.set(xlabel='District Name',ylabel='Incident Number', title='Top Ten District with the Most Crime Events')"
      ],
      "metadata": {
        "id": "mqzdcY74j74u"
      },
      "execution_count": null,
      "outputs": []
    },
    {
      "cell_type": "code",
      "source": [
        "import matplotlib.image as mpimg \n",
        "map_img = mpimg.imread('https://github.com/JiadaiY/JiadaiYu/blob/main/BA780%20GroupProject/Boston%20map.png?raw=true') \n",
        "\n",
        "fig = plt.figure()\n",
        "fig.set_size_inches(4.97,5.93)\n",
        "g = sns.scatterplot(data=crime2021_tidy,x='Long',y='Lat',hue='DISTRICT_NAME',alpha=0.02,palette=\"blend:#1f77b4,#ff0000\")\n",
        "g.set_title('Geographic Distribution of Incidents')\n",
        "g.set(xlabel=\"Longitude\",ylabel=\"Latitude\",xlim=(-71.20,-70.975),ylim=(42.21,42.41))\n",
        "g.legend(bbox_to_anchor=(1.02, 1), loc='upper left', borderaxespad=0)\n",
        "g.imshow(map_img,\n",
        "         aspect = g.get_aspect(),\n",
        "         extent = g.get_xlim() + g.get_ylim(),\n",
        "          zorder = 0)\n",
        "plt.show()"
      ],
      "metadata": {
        "id": "ec-nbeWshHgE"
      },
      "execution_count": null,
      "outputs": []
    },
    {
      "cell_type": "markdown",
      "source": [
        "*need some simple description*"
      ],
      "metadata": {
        "id": "I7LDJ8tapiAq"
      }
    },
    {
      "cell_type": "markdown",
      "source": [
        "### 2.3 Month with the Highest Crime Rate\n",
        "Rank the number of crimes by month and select the top three months with the highest number of incidents."
      ],
      "metadata": {
        "id": "W5fXDq10po2e"
      }
    },
    {
      "cell_type": "code",
      "source": [
        "crime_by_month = crime2021_tidy.groupby('MONTH').count().reset_index()[['MONTH','INCIDENT_NUMBER']]\n",
        "crime_by_month.sort_values(by=\"INCIDENT_NUMBER\", ascending=False).head(3)"
      ],
      "metadata": {
        "id": "6anhXBUnhHkn"
      },
      "execution_count": null,
      "outputs": []
    },
    {
      "cell_type": "markdown",
      "source": [
        "List the top ten incidents with the highest number of reports in the first three months"
      ],
      "metadata": {
        "id": "9MCzFsVAqeIs"
      }
    },
    {
      "cell_type": "code",
      "source": [
        "# groupby two variables\n",
        "month10 = crime2021_tidy[crime2021_tidy.MONTH==10]\n",
        "month10 = month10.groupby('OFFENSE_DESCRIPTION').count()\n",
        "month10 = month10.rename(columns={\"INCIDENT_NUMBER\": \"Month_10_Count\"})\n",
        "\n",
        "month8 = crime2021_tidy[crime2021_tidy.MONTH==8]\n",
        "month8 = month8.groupby('OFFENSE_DESCRIPTION').count()\n",
        "month8 = month8.rename(columns={\"INCIDENT_NUMBER\": \"Month_8_Count\"})\n",
        "\n",
        "month9 = crime2021_tidy[crime2021_tidy.MONTH==9]\n",
        "month9 = month9.groupby('OFFENSE_DESCRIPTION').count()\n",
        "month9 = month9.rename(columns={\"INCIDENT_NUMBER\": \"Month_9_Count\"})\n",
        "\n",
        "\n",
        "result = pd.concat([month8, month9, month10], axis=1, join=\"inner\")\n",
        "result = result.sort_values(by='Month_10_Count', ascending=False).head(10)\n",
        "result.plot.bar(y = {\"Month_8_Count\",\"Month_9_Count\",\"Month_10_Count\"},color=[\"#1f77b4\",\"#a1a1a1\",\"#ff0000\"])\n",
        "\n",
        "ax=plt.axes()\n",
        "ax.set(xlabel='Top Ten Incidents',ylabel='NUmber of Reports', title='Top three month with most incidents of 2021')"
      ],
      "metadata": {
        "id": "87NdSK4hhHoG"
      },
      "execution_count": null,
      "outputs": []
    },
    {
      "cell_type": "markdown",
      "source": [
        "Find high frequency reported incidents for all districts in October"
      ],
      "metadata": {
        "id": "T1-TCQH0qxBi"
      }
    },
    {
      "cell_type": "code",
      "source": [
        "top_3_crimes_lst = crime_by_type_2021.sort_values(by=['INCIDENT_NUMBER'], ascending=False)[:3]['OFFENSE_DESCRIPTION'].values\n",
        "\n",
        "crime_by_type_month = crime2021_tidy.groupby(['OFFENSE_DESCRIPTION','MONTH','DISTRICT']).agg({'INCIDENT_NUMBER':'count'}).reset_index()\n",
        "crime_by_top_type_month = crime_by_type_month[crime_by_type_month['OFFENSE_DESCRIPTION'].isin(top_3_crimes_lst)]\n",
        "crime_by_top_type_month.sort_values(by=\"INCIDENT_NUMBER\", ascending=False).head()"
      ],
      "metadata": {
        "id": "NgC8po-4qf3Z"
      },
      "execution_count": null,
      "outputs": []
    },
    {
      "cell_type": "code",
      "source": [
        "crime_by_top_type_month10 = crime_by_top_type_month[crime_by_type_month['MONTH']==10]\n",
        "\n",
        "days_sumy = sns.catplot(x='DISTRICT', y='INCIDENT_NUMBER', data=crime_by_top_type_month10, kind='bar', hue='OFFENSE_DESCRIPTION',palette=[\"#1f77b4\",\"#a1a1a1\",\"#ff0000\"])\n",
        "plt.title('OCT.Number of Reported Cases by District')\n",
        "plt.ylabel('INCIDENT')\n",
        "plt.show()"
      ],
      "metadata": {
        "id": "-a5IDqiXqf6Z"
      },
      "execution_count": null,
      "outputs": []
    },
    {
      "cell_type": "markdown",
      "source": [
        "Phase Summary: In 2021, the highest incident months were October, August, and September. The most reported incidents include investigate person, sick assist, and property damage. From the high-incidence district in October, investigate persons occurred in B2, B3, C11, and D4; A1, B2, C11, and D4 are the high-incidence areas for sick assist; B2, and C11 are the high-incidence areas for property damage. Generally speaking, B2, B3, C11, and D4 are the regions with the most cases reported throughout October."
      ],
      "metadata": {
        "id": "ADDf5yEurKXc"
      }
    },
    {
      "cell_type": "code",
      "source": [
        "# repeat the analysis in 2022\n",
        "crime_by_month = crime2022_tidy.groupby('MONTH').count().reset_index()[['MONTH','INCIDENT_NUMBER']]\n",
        "crime_by_month.sort_values(by=\"INCIDENT_NUMBER\", ascending=False).head(3)"
      ],
      "metadata": {
        "id": "yyWMNC13qf9Y"
      },
      "execution_count": null,
      "outputs": []
    },
    {
      "cell_type": "code",
      "source": [
        "top_3_crimes_lst = crime_by_type_2022.sort_values(by=['INCIDENT_NUMBER'], ascending=False)[:3]['OFFENSE_DESCRIPTION'].values\n",
        "\n",
        "crime_by_type_month = crime2022_tidy.groupby(['OFFENSE_DESCRIPTION','MONTH','DISTRICT']).agg({'INCIDENT_NUMBER':'count'}).reset_index()\n",
        "crime_by_top_type_month = crime_by_type_month[crime_by_type_month['OFFENSE_DESCRIPTION'].isin(top_3_crimes_lst)]\n",
        "crime_by_top_type_month.sort_values(by=\"INCIDENT_NUMBER\", ascending=False).head()"
      ],
      "metadata": {
        "id": "-wjTrCYBrcqk"
      },
      "execution_count": null,
      "outputs": []
    },
    {
      "cell_type": "code",
      "source": [
        "crime_by_top_type_month7 = crime_by_top_type_month[crime_by_type_month['MONTH']==7]\n",
        "\n",
        "days_sumy = sns.catplot(x='DISTRICT', y='INCIDENT_NUMBER', data=crime_by_top_type_month7, kind='bar', hue='OFFENSE_DESCRIPTION', palette=[\"#1f77b4\",\"#a1a1a1\",\"#ff0000\"])\n",
        "plt.title('JUL.Number of Reported Cases by District')\n",
        "plt.ylabel('INCIDENT')\n",
        "plt.show()"
      ],
      "metadata": {
        "id": "u8cxsUNdriuI"
      },
      "execution_count": null,
      "outputs": []
    },
    {
      "cell_type": "markdown",
      "source": [
        "By comparing the types of incidents and the number of incidents reported in 2021 and 2022, it is clear that most of the cases occurred from July to October in one year, and the main types of reported cases include investigation person, sick assist, and property damage. Districts B2, B3, D4, and C11 are the high-frequency areas for incident reporting."
      ],
      "metadata": {
        "id": "xKJ800fIrq2F"
      }
    },
    {
      "cell_type": "markdown",
      "source": [
        "### 2.4 Day Crime is Reported the Most"
      ],
      "metadata": {
        "id": "tb1NKMxtrsuE"
      }
    },
    {
      "cell_type": "code",
      "source": [
        "crime2021_tidy[\"DAY_OF_WEEK\"].unique()"
      ],
      "metadata": {
        "id": "f7WKDW57qgAA"
      },
      "execution_count": null,
      "outputs": []
    },
    {
      "cell_type": "markdown",
      "source": [
        "What day is crime most and least reported? It seems to be that on Fridays is when crime is most reported, while Sundays are when they are least reported. "
      ],
      "metadata": {
        "id": "goNt5KV3sESg"
      }
    },
    {
      "cell_type": "code",
      "source": [
        "crime_by_days_2021 = crime2021_tidy[\"DAY_OF_WEEK\"].value_counts()\n",
        "crime_by_days_2021"
      ],
      "metadata": {
        "id": "E04FKJ_rr4Io"
      },
      "execution_count": null,
      "outputs": []
    },
    {
      "cell_type": "markdown",
      "source": [
        "Surprisingly, most of the days that the crimes are reported are fairly close to each other. For example, Wednesday, Monday, Thursday, Saturday, and Tuesday only vary by 300 reports the whole year.  \n",
        "In this anlysis, we focsued on the top three most common crimes and wanted to see which days reported these crimes the most. From 2.1, we found that the top 3 frequent types of incidents are: `INVESTIGATE PERSON`, `SICK ASSIST`, and `M/V - LEAVING SCENE - PROPERTY DAMAGE`. So let's break it down by each day of the week to see which type of crime is most common in those days. "
      ],
      "metadata": {
        "id": "3ZE8qPZPsYJr"
      }
    },
    {
      "cell_type": "code",
      "source": [
        "top_3_crimes_lst = crime_by_type_2021.sort_values(by=['INCIDENT_NUMBER'], ascending=False)[:3]['OFFENSE_DESCRIPTION'].values\n",
        "top_3_crimes=crime2021_tidy[crime2021_tidy.OFFENSE_DESCRIPTION.isin(top_3_crimes_lst)]\n",
        "top_3_crime_by_days=top_3_crimes.groupby(['OFFENSE_DESCRIPTION',\"DAY_OF_WEEK\"]).agg({'INCIDENT_NUMBER':'count'}).reset_index()\n",
        "day_order = ['Monday', 'Tuesday', 'Wednesday', 'Thursday', 'Friday', 'Saturday', 'Sunday']\n",
        "days_sumy = sns.catplot(x=\"DAY_OF_WEEK\", y='INCIDENT_NUMBER', data=top_3_crime_by_days, kind='bar', order=day_order, \n",
        "                        col='OFFENSE_DESCRIPTION', col_order=top_3_crimes_lst, palette=\"blend:#1f77b4,#ff0000\")\n",
        "plt.show()"
      ],
      "metadata": {
        "id": "-sLe1aLZr4L5"
      },
      "execution_count": null,
      "outputs": []
    },
    {
      "cell_type": "markdown",
      "source": [
        "The graph shows that `INVESTIGATE PERSON` is most common on Wednesday, while `SICK ASSIST` is most common on Thrusday, and `M/V - LEAVING SCENE - PROPERTY DAMAGE` is most common on Friday."
      ],
      "metadata": {
        "id": "LGj1RJGAtBGF"
      }
    },
    {
      "cell_type": "code",
      "source": [
        "crime_by_days_2022 = crime2022_tidy[\"DAY_OF_WEEK\"].value_counts()\n",
        "crime_by_days_2022"
      ],
      "metadata": {
        "id": "cpO7txg-r4W-"
      },
      "execution_count": null,
      "outputs": []
    },
    {
      "cell_type": "markdown",
      "source": [
        "The most common day crime was reported in 2022 was Friday, which was the same as 2021. However, the second most common day that crime was reported was in 2022 was Monday, while in 2021 it was Wednesday. Saturday, Tuesday, and Sunday all finished last in both years."
      ],
      "metadata": {
        "id": "YA14E9BftTEc"
      }
    },
    {
      "cell_type": "code",
      "source": [
        "top_3_crimes_lst = crime_by_type_2022.sort_values(by=['INCIDENT_NUMBER'], ascending=False)[:3]['OFFENSE_DESCRIPTION'].values\n",
        "top_3_crimes=crime2022_tidy[crime2022_tidy.OFFENSE_DESCRIPTION.isin(top_3_crimes_lst)]\n",
        "top_3_crime_by_days=top_3_crimes.groupby(['OFFENSE_DESCRIPTION',\"DAY_OF_WEEK\"]).agg({'INCIDENT_NUMBER':'count'}).reset_index()\n",
        "\n",
        "days_sumy = sns.catplot(x=\"DAY_OF_WEEK\", y='INCIDENT_NUMBER', data=top_3_crime_by_days, kind='bar', order=day_order, \n",
        "                        col='OFFENSE_DESCRIPTION', col_order=top_3_crimes_lst, palette=\"blend:#1f77b4,#ff0000\")\n",
        "plt.show()"
      ],
      "metadata": {
        "id": "UyhqidBkhHrx"
      },
      "execution_count": null,
      "outputs": []
    },
    {
      "cell_type": "markdown",
      "source": [
        "For 2022, INVESTIGATE PERSON, was most common on Fridays, while in 2021 it was most common on Wedensday. SICK ASSIST in 2021 was most common on Thrusday, but in 2022 it was most common on Friday. M/V - LEAVING SCENE - PROPERTY DAMAGE was most common on Friday for both 2021 and 2022."
      ],
      "metadata": {
        "id": "RN2dxjdOtpBx"
      }
    },
    {
      "cell_type": "markdown",
      "source": [
        "### 2.5 Time Crime is Reported the Most"
      ],
      "metadata": {
        "id": "O0hpT-d-w8YL"
      }
    },
    {
      "cell_type": "code",
      "source": [
        "imehour_day = pd.pivot_table(data=crime2021_tidy, index = \"DAY_OF_WEEK\",\n",
        "                              columns = \"HOUR\", values = \"INCIDENT_NUMBER\", aggfunc = 'count')\n",
        "hour_day.index = pd.CategoricalIndex(hour_day.index,categories=day_order)\n",
        "hour_day.sort_index(level=0, inplace=True)\n",
        "g = sns.heatmap(hour_day,cmap = 'Reds')\n",
        "g.set_title('Time of Incidents Reports')\n",
        "g.set(xlabel='Hour',ylabel='Day of week')\n",
        "plt.show()"
      ],
      "metadata": {
        "id": "8AKwH67jtbc4"
      },
      "execution_count": null,
      "outputs": []
    },
    {
      "cell_type": "markdown",
      "source": [
        "This heatmap shows at which hour crime was most commonly reported. It seems that at hour 17 (5 PM) crime is most commonly reported. 5 PM is also the most busiest time on the roads, so that is one reason crime is most commomly reported at that time. Crime is also least reported between 3 A.M. and 6 A.M.   "
      ],
      "metadata": {
        "id": "I1rt1bEVzX_B"
      }
    },
    {
      "cell_type": "code",
      "source": [
        "imehour_day = pd.pivot_table(data=crime2022_tidy, index = \"DAY_OF_WEEK\",\n",
        "                              columns = \"HOUR\", values = \"INCIDENT_NUMBER\", aggfunc = 'count')\n",
        "hour_day.index = pd.CategoricalIndex(hour_day.index,categories=day_order)\n",
        "hour_day.sort_index(level=0, inplace=True)\n",
        "g = sns.heatmap(hour_day,cmap = 'Reds')\n",
        "g.set_title('Time of Incidents Reports')\n",
        "g.set(xlabel='Hour',ylabel='Day of week')\n",
        "plt.show()"
      ],
      "metadata": {
        "id": "huRFfUXmpgyf"
      },
      "execution_count": null,
      "outputs": []
    },
    {
      "cell_type": "markdown",
      "source": [
        "### 2.6 Most Dangerous Incidents: Shooting"
      ],
      "metadata": {
        "id": "KgRTrrAYxB5A"
      }
    },
    {
      "cell_type": "code",
      "source": [
        "shooting_crime_2021 = crime2021_tidy[crime2021_tidy['SHOOTING']==1]\n",
        "shooting_total_2021 = shooting_crime_2021['INCIDENT_NUMBER'].unique().size\n",
        "print('In 2021, there are ',shooting_total_2021,' incidents involving shootings.')\n",
        "print('The overall probability of shooting is', round(shooting_total_2021/crime_total_2021*100,2), '%.')\n",
        "\n",
        "shooting_type_2021 = shooting_crime_2021.groupby('OFFENSE_DESCRIPTION').count().reset_index()[['OFFENSE_DESCRIPTION','INCIDENT_NUMBER']]"
      ],
      "metadata": {
        "id": "0_24vuT6tbf8"
      },
      "execution_count": null,
      "outputs": []
    },
    {
      "cell_type": "code",
      "source": [
        "crime_type_shooting_2021 = crime_by_type_2021.merge(shooting_type_2021,on='OFFENSE_DESCRIPTION',suffixes=('_TYPE','_SHOOT'),how='outer')\n",
        "crime_type_shooting_2021['SHOOTING_PROBABILITY(%)'] = crime_type_shooting_2021['INCIDENT_NUMBER_SHOOT']/crime_type_shooting_2021['INCIDENT_NUMBER_TYPE']*100\n",
        "# create filters of most frequent and dangerous incidents\n",
        "top_10_types_2021 = crime_by_type_2021[['OFFENSE_DESCRIPTION','INCIDENT_NUMBER','RATE']].sort_values(by=['INCIDENT_NUMBER'], ascending=False)[:10]['OFFENSE_DESCRIPTION'].values\n",
        "top_10_shooting_types_2021 = shooting_type_2021[['OFFENSE_DESCRIPTION','INCIDENT_NUMBER']].sort_values(by=['INCIDENT_NUMBER'], ascending=False)[:10]['OFFENSE_DESCRIPTION'].values\n",
        "\n",
        "top_crime_type_shooting_2021 = crime_type_shooting_2021[crime_type_shooting_2021['OFFENSE_DESCRIPTION'].isin(np.concatenate((top_10_types_2021,top_10_shooting_types_2021)))]\n",
        "\n",
        "fig_2021 = plt.figure()\n",
        "ax = fig_2021.add_subplot()\n",
        "ax2 = ax.twiny()\n",
        "\n",
        "top_crime_type_shooting_2021.plot.barh(y='INCIDENT_NUMBER_TYPE',ax=ax,label='Incident Count')\n",
        "top_crime_type_shooting_2021.plot.scatter(x='SHOOTING_PROBABILITY(%)',y='OFFENSE_DESCRIPTION',marker='x',color='red',ax=ax2,label='Shooting Probability',xlim=(0,75))\n",
        "\n",
        "ax.set_xlabel('Incident Count')\n",
        "ax2.set_xlabel('Shooting Probability(%)')\n",
        "ax2.set_title('Frequency and Shooting Probability of Different Types of Incidents in 2021')"
      ],
      "metadata": {
        "id": "GdoFSpGxtbi5"
      },
      "execution_count": null,
      "outputs": []
    },
    {
      "cell_type": "markdown",
      "source": [
        "The graph shows that shooting, which is an extreme public safety hazard, did not occur with a high probability, the majority types of incidents did not report any shooting, and if any shooting occurred, there were only one or two cases, for example, `SICK ASSIST`, which occurred with the second highest frequency, sums up to 4969 times with no shooting reported.  \n",
        "However, there are also some types of incidents that have disproportionately high probability of shooting, such as `MURDER, NON-NEGLIGIENT MANSLAUGHTER`, occurred only 29 times, yet 20 of them involved shootings, the shooting probability is around 70%, and `BALLISTICS EVIDENCE/FOUND`, whose shooting probability is around 60%.\n",
        "We can conclude that these types of incidents are extremely dangerous, and if you encounter one in progress, run away as soon as possible!"
      ],
      "metadata": {
        "id": "HpYSrbHlxiVK"
      }
    },
    {
      "cell_type": "code",
      "source": [
        "district_order = ['A1', 'A15', 'A7', 'B2', 'B3', 'C6', 'C11', 'D4', 'E5', 'E13', 'E18']\n",
        "shooting_sumy = sns.catplot(x='DISTRICT', y='SHOOTING', data=crime2021_tidy, kind='point', order=district_order, col='DAY_OF_WEEK', col_order=day_order, ci=None)\n",
        "shooting_sumy = sns.catplot(x='DISTRICT', y='SHOOTING', data=crime2022_tidy, kind='point', order=district_order, col='DAY_OF_WEEK', col_order=day_order, ci=None)\n",
        "plt.ylim(0,0.05)\n",
        "plt.show()"
      ],
      "metadata": {
        "id": "ME6ycD6Cyq5w"
      },
      "execution_count": null,
      "outputs": []
    },
    {
      "cell_type": "code",
      "source": [
        "import matplotlib.image as mpimg \n",
        "map_img = mpimg.imread('https://github.com/JiadaiY/JiadaiYu/blob/main/BA780%20GroupProject/Boston%20map.png?raw=true') \n",
        "\n",
        "fig = plt.figure()\n",
        "fig.set_size_inches(4.97,5.93)\n",
        "g = sns.scatterplot(data=crime2021_tidy[crime2021_tidy['SHOOTING']==1],x='Long',y='Lat',hue='DISTRICT_NAME',alpha=0.5,palette=\"blend:#1f77b4,#ff0000\")\n",
        "g.set_title('Geographic Distribution of Shootings')\n",
        "g.set(xlabel=\"Longitude\",ylabel=\"Latitude\",xlim=(-71.20,-70.975),ylim=(42.21,42.41))\n",
        "g.legend(bbox_to_anchor=(1.02, 1), loc='upper left', borderaxespad=0)\n",
        "g.imshow(map_img,\n",
        "         aspect = g.get_aspect(),\n",
        "         extent = g.get_xlim() + g.get_ylim(),\n",
        "          zorder = 0)\n",
        "plt.show()"
      ],
      "metadata": {
        "id": "Nyj-WSVwyI-O"
      },
      "execution_count": null,
      "outputs": []
    },
    {
      "cell_type": "code",
      "source": [
        "hour_day_shooting = pd.pivot_table(data=crime2021_tidy[crime2021_tidy['SHOOTING']==1], index = \"DAY_OF_WEEK\",\n",
        "                              columns = \"HOUR\", values = \"INCIDENT_NUMBER\", aggfunc = 'count')\n",
        "hour_day_shooting.index = pd.CategoricalIndex(hour_day_shooting.index,categories=day_order)\n",
        "hour_day_shooting.sort_index(level=0, inplace=True)\n",
        "g = sns.heatmap(hour_day_shooting,cmap = 'Reds')\n",
        "g.set_title('Time of Shootings Reports')\n",
        "g.set(xlabel='Hour',ylabel='Day of week')\n",
        "plt.show()"
      ],
      "metadata": {
        "id": "iY3xPAl-yJHO"
      },
      "execution_count": null,
      "outputs": []
    },
    {
      "cell_type": "markdown",
      "source": [
        "This heatmap shows at what time shootings are most commonly reported. As you can see the evening times are the most common, and in particular Saturday night and Sunday early morning (2 A.M.) are the most common time and day for shootings to occur. This heatmap also shows that there are rearly any shotings during the day time (6 A.M. - 12 P.M.).  "
      ],
      "metadata": {
        "id": "XnS0F8d9SOET"
      }
    },
    {
      "cell_type": "markdown",
      "source": [
        "## 3. Conclusion  \n",
        "\n",
        "With our analysis, we can see that there are certain areas of Boston that have the high levels of crime rate. We also narrowed down on specific variables, such as type of crime, district, month, day and what time the crime occurred to get a better understadning of the crime in Boston. With this, we can better predict possible incidents and be able to suggest appropriate reinforcements to make the city of Boston safer. "
      ],
      "metadata": {
        "id": "b2SsOnuCznrR"
      }
    }
  ]
}